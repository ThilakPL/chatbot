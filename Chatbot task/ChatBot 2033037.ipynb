{
 "cells": [
  {
   "cell_type": "code",
   "execution_count": null,
   "id": "54badaa9",
   "metadata": {},
   "outputs": [
    {
     "name": "stdout",
     "output_type": "stream",
     "text": [
      "Hello! I am a simple chatbot that can perform basic mathematical operations. You can ask me to add, subtract, multiply, or divide numbers.\n",
      "What would you like me to do? multiple\n",
      "Sorry, I need two numbers to perform an operation. Please try again.\n",
      "What would you like me to do? multiply 5 and 6\n",
      "The product of 5 and 6 is 30.\n",
      "What would you like me to do? add 5 and 5\n",
      "The sum of 5 and 5 is 10.\n"
     ]
    }
   ],
   "source": [
    "import re\n",
    "\n",
    "print(\"Welcome! Hi I am a simple chatbot that can perform basic mathematical operations. You can ask me to add, subtract, multiply, or divide numbers.\")\n",
    "\n",
    "while True:\n",
    "    user_input = input(\"What would you like me to do? \")\n",
    "    user_input = user_input.lower()\n",
    "\n",
    "    # Check if the user wants to exit the program\n",
    "    if user_input == \"exit\":\n",
    "        print(\"Goodbye!\")\n",
    "        break\n",
    "\n",
    "    # Use regular expressions to extract the numbers from the user's input\n",
    "    numbers = re.findall(r'\\d+', user_input)\n",
    "\n",
    "    # Check if the user provided two numbers\n",
    "    if len(numbers) != 2:\n",
    "        print(\"Sorry, I need two numbers to perform an operation. Please try again.\")\n",
    "        continue\n",
    "\n",
    "    # Convert the numbers to integers\n",
    "    num1 = int(numbers[0])\n",
    "    num2 = int(numbers[1])\n",
    "\n",
    "    # Check which operation the user wants to perform\n",
    "    if \"add\" in user_input:\n",
    "        result = num1 + num2\n",
    "        print(f\"The sum of {num1} and {num2} is {result}.\")\n",
    "    elif \"subtract\" in user_input:\n",
    "        result = num1 - num2\n",
    "        print(f\"The difference between {num1} and {num2} is {result}.\")\n",
    "    elif \"multiply\" in user_input:\n",
    "        result = num1 * num2\n",
    "        print(f\"The product of {num1} and {num2} is {result}.\")\n",
    "    elif \"divide\" in user_input:\n",
    "        if num2 == 0:\n",
    "            print(\"Sorry, I cannot divide by zero.\")\n",
    "            continue\n",
    "        result = num1 / num2\n",
    "        print(f\"The quotient of {num1} and {num2} is {result}.\")\n",
    "    else:\n",
    "        print(\"Sorry, I don't understand that. Please try again.\")"
   ]
  },
  {
   "cell_type": "code",
   "execution_count": null,
   "id": "ec029f67",
   "metadata": {},
   "outputs": [],
   "source": []
  }
 ],
 "metadata": {
  "kernelspec": {
   "display_name": "Python 3 (ipykernel)",
   "language": "python",
   "name": "python3"
  },
  "language_info": {
   "codemirror_mode": {
    "name": "ipython",
    "version": 3
   },
   "file_extension": ".py",
   "mimetype": "text/x-python",
   "name": "python",
   "nbconvert_exporter": "python",
   "pygments_lexer": "ipython3",
   "version": "3.9.12"
  }
 },
 "nbformat": 4,
 "nbformat_minor": 5
}
